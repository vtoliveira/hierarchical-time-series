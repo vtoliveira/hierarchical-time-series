{
 "cells": [
  {
   "cell_type": "markdown",
   "metadata": {},
   "source": [
    "## Loading libraries and data"
   ]
  },
  {
   "cell_type": "code",
   "execution_count": 3,
   "metadata": {},
   "outputs": [
    {
     "data": {
      "text/html": [
       "        <script type=\"text/javascript\">\n",
       "        window.PlotlyConfig = {MathJaxConfig: 'local'};\n",
       "        if (window.MathJax) {MathJax.Hub.Config({SVG: {font: \"STIX-Web\"}});}\n",
       "        if (typeof require !== 'undefined') {\n",
       "        require.undef(\"plotly\");\n",
       "        requirejs.config({\n",
       "            paths: {\n",
       "                'plotly': ['https://cdn.plot.ly/plotly-latest.min']\n",
       "            }\n",
       "        });\n",
       "        require(['plotly'], function(Plotly) {\n",
       "            window._Plotly = Plotly;\n",
       "        });\n",
       "        }\n",
       "        </script>\n",
       "        "
      ]
     },
     "metadata": {},
     "output_type": "display_data"
    }
   ],
   "source": [
    "import sys\n",
    "import os\n",
    "import gc\n",
    "\n",
    "sys.path.append(\"../src\")\n",
    "\n",
    "import pandas as pd\n",
    "import numpy as np\n",
    "\n",
    "import matplotlib.pyplot as plt\n",
    "import seaborn as sns\n",
    "import plotly.graph_objects as go\n",
    "from plotly.subplots import make_subplots\n",
    "import plotly.express as px\n",
    "import cufflinks as cf\n",
    "\n",
    "cf.go_offline()\n",
    "\n",
    "import pmdarima as pm\n",
    "from hts import HTSRegressor\n",
    "\n",
    "from visualize import get_nodes_edges_position, make_annotations"
   ]
  },
  {
   "cell_type": "code",
   "execution_count": 4,
   "metadata": {},
   "outputs": [
    {
     "data": {
      "text/html": [
       "<div>\n",
       "<style scoped>\n",
       "    .dataframe tbody tr th:only-of-type {\n",
       "        vertical-align: middle;\n",
       "    }\n",
       "\n",
       "    .dataframe tbody tr th {\n",
       "        vertical-align: top;\n",
       "    }\n",
       "\n",
       "    .dataframe thead th {\n",
       "        text-align: right;\n",
       "    }\n",
       "</style>\n",
       "<table border=\"1\" class=\"dataframe\">\n",
       "  <thead>\n",
       "    <tr style=\"text-align: right;\">\n",
       "      <th></th>\n",
       "      <th>total</th>\n",
       "      <th>state_id</th>\n",
       "      <th>store_id</th>\n",
       "      <th>cat_id</th>\n",
       "      <th>dept_id</th>\n",
       "      <th>2011-01-29</th>\n",
       "      <th>2011-01-30</th>\n",
       "      <th>2011-01-31</th>\n",
       "      <th>2011-02-01</th>\n",
       "      <th>2011-02-02</th>\n",
       "      <th>...</th>\n",
       "      <th>2016-04-15</th>\n",
       "      <th>2016-04-16</th>\n",
       "      <th>2016-04-17</th>\n",
       "      <th>2016-04-18</th>\n",
       "      <th>2016-04-19</th>\n",
       "      <th>2016-04-20</th>\n",
       "      <th>2016-04-21</th>\n",
       "      <th>2016-04-22</th>\n",
       "      <th>2016-04-23</th>\n",
       "      <th>2016-04-24</th>\n",
       "    </tr>\n",
       "  </thead>\n",
       "  <tbody>\n",
       "    <tr>\n",
       "      <th>0</th>\n",
       "      <td>Total</td>\n",
       "      <td>CA</td>\n",
       "      <td>CA_1</td>\n",
       "      <td>FOODS</td>\n",
       "      <td>FOODS_1</td>\n",
       "      <td>297</td>\n",
       "      <td>284</td>\n",
       "      <td>214</td>\n",
       "      <td>175</td>\n",
       "      <td>182</td>\n",
       "      <td>...</td>\n",
       "      <td>293</td>\n",
       "      <td>317</td>\n",
       "      <td>268</td>\n",
       "      <td>302</td>\n",
       "      <td>237</td>\n",
       "      <td>287</td>\n",
       "      <td>297</td>\n",
       "      <td>331</td>\n",
       "      <td>419</td>\n",
       "      <td>329</td>\n",
       "    </tr>\n",
       "    <tr>\n",
       "      <th>1</th>\n",
       "      <td>Total</td>\n",
       "      <td>CA</td>\n",
       "      <td>CA_1</td>\n",
       "      <td>FOODS</td>\n",
       "      <td>FOODS_2</td>\n",
       "      <td>674</td>\n",
       "      <td>655</td>\n",
       "      <td>396</td>\n",
       "      <td>476</td>\n",
       "      <td>354</td>\n",
       "      <td>...</td>\n",
       "      <td>435</td>\n",
       "      <td>499</td>\n",
       "      <td>637</td>\n",
       "      <td>529</td>\n",
       "      <td>391</td>\n",
       "      <td>423</td>\n",
       "      <td>365</td>\n",
       "      <td>489</td>\n",
       "      <td>590</td>\n",
       "      <td>734</td>\n",
       "    </tr>\n",
       "    <tr>\n",
       "      <th>2</th>\n",
       "      <td>Total</td>\n",
       "      <td>CA</td>\n",
       "      <td>CA_1</td>\n",
       "      <td>FOODS</td>\n",
       "      <td>FOODS_3</td>\n",
       "      <td>2268</td>\n",
       "      <td>2198</td>\n",
       "      <td>1398</td>\n",
       "      <td>1607</td>\n",
       "      <td>1496</td>\n",
       "      <td>...</td>\n",
       "      <td>1978</td>\n",
       "      <td>2665</td>\n",
       "      <td>3099</td>\n",
       "      <td>2055</td>\n",
       "      <td>1860</td>\n",
       "      <td>1780</td>\n",
       "      <td>1871</td>\n",
       "      <td>2140</td>\n",
       "      <td>2646</td>\n",
       "      <td>2990</td>\n",
       "    </tr>\n",
       "    <tr>\n",
       "      <th>3</th>\n",
       "      <td>Total</td>\n",
       "      <td>CA</td>\n",
       "      <td>CA_1</td>\n",
       "      <td>HOBBIES</td>\n",
       "      <td>HOBBIES_1</td>\n",
       "      <td>528</td>\n",
       "      <td>489</td>\n",
       "      <td>409</td>\n",
       "      <td>383</td>\n",
       "      <td>263</td>\n",
       "      <td>...</td>\n",
       "      <td>370</td>\n",
       "      <td>690</td>\n",
       "      <td>597</td>\n",
       "      <td>517</td>\n",
       "      <td>461</td>\n",
       "      <td>333</td>\n",
       "      <td>380</td>\n",
       "      <td>471</td>\n",
       "      <td>621</td>\n",
       "      <td>641</td>\n",
       "    </tr>\n",
       "  </tbody>\n",
       "</table>\n",
       "<p>4 rows × 1918 columns</p>\n",
       "</div>"
      ],
      "text/plain": [
       "   total state_id store_id   cat_id    dept_id  2011-01-29  2011-01-30  \\\n",
       "0  Total       CA     CA_1    FOODS    FOODS_1         297         284   \n",
       "1  Total       CA     CA_1    FOODS    FOODS_2         674         655   \n",
       "2  Total       CA     CA_1    FOODS    FOODS_3        2268        2198   \n",
       "3  Total       CA     CA_1  HOBBIES  HOBBIES_1         528         489   \n",
       "\n",
       "   2011-01-31  2011-02-01  2011-02-02  ...  2016-04-15  2016-04-16  \\\n",
       "0         214         175         182  ...         293         317   \n",
       "1         396         476         354  ...         435         499   \n",
       "2        1398        1607        1496  ...        1978        2665   \n",
       "3         409         383         263  ...         370         690   \n",
       "\n",
       "   2016-04-17  2016-04-18  2016-04-19  2016-04-20  2016-04-21  2016-04-22  \\\n",
       "0         268         302         237         287         297         331   \n",
       "1         637         529         391         423         365         489   \n",
       "2        3099        2055        1860        1780        1871        2140   \n",
       "3         597         517         461         333         380         471   \n",
       "\n",
       "   2016-04-23  2016-04-24  \n",
       "0         419         329  \n",
       "1         590         734  \n",
       "2        2646        2990  \n",
       "3         621         641  \n",
       "\n",
       "[4 rows x 1918 columns]"
      ]
     },
     "execution_count": 4,
     "metadata": {},
     "output_type": "execute_result"
    }
   ],
   "source": [
    "df_hier_sales = pd.read_csv(\"../data/preprocessed/M5_hierarchical_data.csv\")\n",
    "df_hier_sales.head(4)"
   ]
  },
  {
   "cell_type": "markdown",
   "metadata": {},
   "source": [
    "### Minimal Dataprep and Filtering\n",
    "\n",
    "Let's melt our data so we have our data represented in tidy format as well as removing day 25-12 where I know apriori that majority of stores were closed due to Walmart's policy. Regarding other components of data preparation, I left to a minimal level here, any issue will be treated in *hierarchical-data-definition* and then here we will always get most recent data for modelling."
   ]
  },
  {
   "cell_type": "code",
   "execution_count": 5,
   "metadata": {},
   "outputs": [
    {
     "data": {
      "text/html": [
       "<div>\n",
       "<style scoped>\n",
       "    .dataframe tbody tr th:only-of-type {\n",
       "        vertical-align: middle;\n",
       "    }\n",
       "\n",
       "    .dataframe tbody tr th {\n",
       "        vertical-align: top;\n",
       "    }\n",
       "\n",
       "    .dataframe thead th {\n",
       "        text-align: right;\n",
       "    }\n",
       "</style>\n",
       "<table border=\"1\" class=\"dataframe\">\n",
       "  <thead>\n",
       "    <tr style=\"text-align: right;\">\n",
       "      <th></th>\n",
       "      <th>total</th>\n",
       "      <th>dept_id</th>\n",
       "      <th>store_id</th>\n",
       "      <th>state_id</th>\n",
       "      <th>cat_id</th>\n",
       "      <th>date</th>\n",
       "      <th>unit_solds</th>\n",
       "    </tr>\n",
       "  </thead>\n",
       "  <tbody>\n",
       "    <tr>\n",
       "      <th>0</th>\n",
       "      <td>Total</td>\n",
       "      <td>FOODS_1</td>\n",
       "      <td>CA_1</td>\n",
       "      <td>CA</td>\n",
       "      <td>FOODS</td>\n",
       "      <td>2011-01-29</td>\n",
       "      <td>297</td>\n",
       "    </tr>\n",
       "    <tr>\n",
       "      <th>1</th>\n",
       "      <td>Total</td>\n",
       "      <td>FOODS_2</td>\n",
       "      <td>CA_1</td>\n",
       "      <td>CA</td>\n",
       "      <td>FOODS</td>\n",
       "      <td>2011-01-29</td>\n",
       "      <td>674</td>\n",
       "    </tr>\n",
       "    <tr>\n",
       "      <th>2</th>\n",
       "      <td>Total</td>\n",
       "      <td>FOODS_3</td>\n",
       "      <td>CA_1</td>\n",
       "      <td>CA</td>\n",
       "      <td>FOODS</td>\n",
       "      <td>2011-01-29</td>\n",
       "      <td>2268</td>\n",
       "    </tr>\n",
       "    <tr>\n",
       "      <th>3</th>\n",
       "      <td>Total</td>\n",
       "      <td>HOBBIES_1</td>\n",
       "      <td>CA_1</td>\n",
       "      <td>CA</td>\n",
       "      <td>HOBBIES</td>\n",
       "      <td>2011-01-29</td>\n",
       "      <td>528</td>\n",
       "    </tr>\n",
       "  </tbody>\n",
       "</table>\n",
       "</div>"
      ],
      "text/plain": [
       "   total    dept_id store_id state_id   cat_id       date  unit_solds\n",
       "0  Total    FOODS_1     CA_1       CA    FOODS 2011-01-29         297\n",
       "1  Total    FOODS_2     CA_1       CA    FOODS 2011-01-29         674\n",
       "2  Total    FOODS_3     CA_1       CA    FOODS 2011-01-29        2268\n",
       "3  Total  HOBBIES_1     CA_1       CA  HOBBIES 2011-01-29         528"
      ]
     },
     "execution_count": 5,
     "metadata": {},
     "output_type": "execute_result"
    }
   ],
   "source": [
    "df_hier = (\n",
    "  df_hier_sales.melt(id_vars=[\"total\", \"dept_id\", \"store_id\", \"state_id\", \"cat_id\"],\n",
    "                    var_name=\"date\",\n",
    "                    value_name=\"unit_solds\")\n",
    "               .assign(date=lambda df: pd.to_datetime(df['date']))\n",
    ")\n",
    "\n",
    "df_hier.head(4)"
   ]
  },
  {
   "cell_type": "code",
   "execution_count": 6,
   "metadata": {},
   "outputs": [
    {
     "data": {
      "text/plain": [
       "(133910, 7)"
      ]
     },
     "execution_count": 6,
     "metadata": {},
     "output_type": "execute_result"
    }
   ],
   "source": [
    "df_hier.shape"
   ]
  },
  {
   "cell_type": "markdown",
   "metadata": {},
   "source": [
    "We will use scikit-hts library, so we need to transform each column in our dataset in a time series relating to a branch in our hierarchical level."
   ]
  },
  {
   "cell_type": "code",
   "execution_count": 7,
   "metadata": {},
   "outputs": [],
   "source": [
    "df_hier['id'] = df_hier.apply(lambda x: f\"{x['state_id']}_{x['store_id']}_{x['cat_id']}_{x['dept_id']}\", axis=1)\n",
    "df_hier['store_cat_id'] = df_hier.apply(lambda x: f\"{x['store_id']}_{x['cat_id']}\", axis=1)\n",
    "df_hier['store_cat_dept_id'] = df_hier.apply(lambda x: f\"{x['store_id']}_{x['cat_id']}_{x['dept_id']}\", axis=1)"
   ]
  },
  {
   "cell_type": "code",
   "execution_count": 8,
   "metadata": {},
   "outputs": [],
   "source": [
    "def return_agg_by_hier(df, column):\n",
    "    return df.pivot_table(index='date', columns=column, values='unit_solds', aggfunc='sum')\n",
    "\n",
    "df_states = return_agg_by_hier(df_hier, column='state_id')\n",
    "df_stores = return_agg_by_hier(df_hier, column='store_id')\n",
    "df_cats = return_agg_by_hier(df_hier, column='store_cat_id')\n",
    "df_depts = return_agg_by_hier(df_hier, column='store_cat_dept_id')"
   ]
  },
  {
   "cell_type": "code",
   "execution_count": 9,
   "metadata": {},
   "outputs": [],
   "source": [
    "df_total = (df_states['CA'] + df_states['WI'] + df_states['TX']).to_frame(name=\"total\")"
   ]
  },
  {
   "cell_type": "code",
   "execution_count": 10,
   "metadata": {},
   "outputs": [
    {
     "data": {
      "text/html": [
       "<div>\n",
       "<style scoped>\n",
       "    .dataframe tbody tr th:only-of-type {\n",
       "        vertical-align: middle;\n",
       "    }\n",
       "\n",
       "    .dataframe tbody tr th {\n",
       "        vertical-align: top;\n",
       "    }\n",
       "\n",
       "    .dataframe thead th {\n",
       "        text-align: right;\n",
       "    }\n",
       "</style>\n",
       "<table border=\"1\" class=\"dataframe\">\n",
       "  <thead>\n",
       "    <tr style=\"text-align: right;\">\n",
       "      <th></th>\n",
       "      <th>total</th>\n",
       "      <th>CA</th>\n",
       "      <th>TX</th>\n",
       "      <th>WI</th>\n",
       "      <th>CA_1</th>\n",
       "      <th>CA_2</th>\n",
       "      <th>CA_3</th>\n",
       "      <th>CA_4</th>\n",
       "      <th>TX_1</th>\n",
       "      <th>TX_2</th>\n",
       "      <th>...</th>\n",
       "      <th>WI_2_HOBBIES_HOBBIES_2</th>\n",
       "      <th>WI_2_HOUSEHOLD_HOUSEHOLD_1</th>\n",
       "      <th>WI_2_HOUSEHOLD_HOUSEHOLD_2</th>\n",
       "      <th>WI_3_FOODS_FOODS_1</th>\n",
       "      <th>WI_3_FOODS_FOODS_2</th>\n",
       "      <th>WI_3_FOODS_FOODS_3</th>\n",
       "      <th>WI_3_HOBBIES_HOBBIES_1</th>\n",
       "      <th>WI_3_HOBBIES_HOBBIES_2</th>\n",
       "      <th>WI_3_HOUSEHOLD_HOUSEHOLD_1</th>\n",
       "      <th>WI_3_HOUSEHOLD_HOUSEHOLD_2</th>\n",
       "    </tr>\n",
       "    <tr>\n",
       "      <th>date</th>\n",
       "      <th></th>\n",
       "      <th></th>\n",
       "      <th></th>\n",
       "      <th></th>\n",
       "      <th></th>\n",
       "      <th></th>\n",
       "      <th></th>\n",
       "      <th></th>\n",
       "      <th></th>\n",
       "      <th></th>\n",
       "      <th></th>\n",
       "      <th></th>\n",
       "      <th></th>\n",
       "      <th></th>\n",
       "      <th></th>\n",
       "      <th></th>\n",
       "      <th></th>\n",
       "      <th></th>\n",
       "      <th></th>\n",
       "      <th></th>\n",
       "      <th></th>\n",
       "    </tr>\n",
       "  </thead>\n",
       "  <tbody>\n",
       "    <tr>\n",
       "      <th>2011-01-29</th>\n",
       "      <td>32631</td>\n",
       "      <td>14195</td>\n",
       "      <td>9438</td>\n",
       "      <td>8998</td>\n",
       "      <td>4337</td>\n",
       "      <td>3494</td>\n",
       "      <td>4739</td>\n",
       "      <td>1625</td>\n",
       "      <td>2556</td>\n",
       "      <td>3852</td>\n",
       "      <td>...</td>\n",
       "      <td>10</td>\n",
       "      <td>353</td>\n",
       "      <td>98</td>\n",
       "      <td>152</td>\n",
       "      <td>583</td>\n",
       "      <td>2293</td>\n",
       "      <td>256</td>\n",
       "      <td>22</td>\n",
       "      <td>584</td>\n",
       "      <td>148</td>\n",
       "    </tr>\n",
       "    <tr>\n",
       "      <th>2011-01-30</th>\n",
       "      <td>31749</td>\n",
       "      <td>13805</td>\n",
       "      <td>9630</td>\n",
       "      <td>8314</td>\n",
       "      <td>4155</td>\n",
       "      <td>3046</td>\n",
       "      <td>4827</td>\n",
       "      <td>1777</td>\n",
       "      <td>2687</td>\n",
       "      <td>3937</td>\n",
       "      <td>...</td>\n",
       "      <td>7</td>\n",
       "      <td>268</td>\n",
       "      <td>94</td>\n",
       "      <td>138</td>\n",
       "      <td>585</td>\n",
       "      <td>2383</td>\n",
       "      <td>342</td>\n",
       "      <td>14</td>\n",
       "      <td>541</td>\n",
       "      <td>195</td>\n",
       "    </tr>\n",
       "    <tr>\n",
       "      <th>2011-01-31</th>\n",
       "      <td>23783</td>\n",
       "      <td>10108</td>\n",
       "      <td>6778</td>\n",
       "      <td>6897</td>\n",
       "      <td>2816</td>\n",
       "      <td>2121</td>\n",
       "      <td>3785</td>\n",
       "      <td>1386</td>\n",
       "      <td>1822</td>\n",
       "      <td>2731</td>\n",
       "      <td>...</td>\n",
       "      <td>18</td>\n",
       "      <td>250</td>\n",
       "      <td>69</td>\n",
       "      <td>127</td>\n",
       "      <td>575</td>\n",
       "      <td>1841</td>\n",
       "      <td>228</td>\n",
       "      <td>20</td>\n",
       "      <td>420</td>\n",
       "      <td>106</td>\n",
       "    </tr>\n",
       "    <tr>\n",
       "      <th>2011-02-01</th>\n",
       "      <td>25412</td>\n",
       "      <td>11047</td>\n",
       "      <td>7381</td>\n",
       "      <td>6984</td>\n",
       "      <td>3051</td>\n",
       "      <td>2324</td>\n",
       "      <td>4232</td>\n",
       "      <td>1440</td>\n",
       "      <td>2258</td>\n",
       "      <td>2954</td>\n",
       "      <td>...</td>\n",
       "      <td>15</td>\n",
       "      <td>305</td>\n",
       "      <td>80</td>\n",
       "      <td>98</td>\n",
       "      <td>533</td>\n",
       "      <td>1965</td>\n",
       "      <td>183</td>\n",
       "      <td>11</td>\n",
       "      <td>327</td>\n",
       "      <td>94</td>\n",
       "    </tr>\n",
       "    <tr>\n",
       "      <th>2011-02-02</th>\n",
       "      <td>19146</td>\n",
       "      <td>9925</td>\n",
       "      <td>5912</td>\n",
       "      <td>3309</td>\n",
       "      <td>2630</td>\n",
       "      <td>1942</td>\n",
       "      <td>3817</td>\n",
       "      <td>1536</td>\n",
       "      <td>1694</td>\n",
       "      <td>2492</td>\n",
       "      <td>...</td>\n",
       "      <td>1</td>\n",
       "      <td>118</td>\n",
       "      <td>32</td>\n",
       "      <td>87</td>\n",
       "      <td>340</td>\n",
       "      <td>1427</td>\n",
       "      <td>70</td>\n",
       "      <td>4</td>\n",
       "      <td>151</td>\n",
       "      <td>53</td>\n",
       "    </tr>\n",
       "  </tbody>\n",
       "</table>\n",
       "<p>5 rows × 114 columns</p>\n",
       "</div>"
      ],
      "text/plain": [
       "            total     CA    TX    WI  CA_1  CA_2  CA_3  CA_4  TX_1  TX_2  ...  \\\n",
       "date                                                                      ...   \n",
       "2011-01-29  32631  14195  9438  8998  4337  3494  4739  1625  2556  3852  ...   \n",
       "2011-01-30  31749  13805  9630  8314  4155  3046  4827  1777  2687  3937  ...   \n",
       "2011-01-31  23783  10108  6778  6897  2816  2121  3785  1386  1822  2731  ...   \n",
       "2011-02-01  25412  11047  7381  6984  3051  2324  4232  1440  2258  2954  ...   \n",
       "2011-02-02  19146   9925  5912  3309  2630  1942  3817  1536  1694  2492  ...   \n",
       "\n",
       "            WI_2_HOBBIES_HOBBIES_2  WI_2_HOUSEHOLD_HOUSEHOLD_1  \\\n",
       "date                                                             \n",
       "2011-01-29                      10                         353   \n",
       "2011-01-30                       7                         268   \n",
       "2011-01-31                      18                         250   \n",
       "2011-02-01                      15                         305   \n",
       "2011-02-02                       1                         118   \n",
       "\n",
       "            WI_2_HOUSEHOLD_HOUSEHOLD_2  WI_3_FOODS_FOODS_1  \\\n",
       "date                                                         \n",
       "2011-01-29                          98                 152   \n",
       "2011-01-30                          94                 138   \n",
       "2011-01-31                          69                 127   \n",
       "2011-02-01                          80                  98   \n",
       "2011-02-02                          32                  87   \n",
       "\n",
       "            WI_3_FOODS_FOODS_2  WI_3_FOODS_FOODS_3  WI_3_HOBBIES_HOBBIES_1  \\\n",
       "date                                                                         \n",
       "2011-01-29                 583                2293                     256   \n",
       "2011-01-30                 585                2383                     342   \n",
       "2011-01-31                 575                1841                     228   \n",
       "2011-02-01                 533                1965                     183   \n",
       "2011-02-02                 340                1427                      70   \n",
       "\n",
       "            WI_3_HOBBIES_HOBBIES_2  WI_3_HOUSEHOLD_HOUSEHOLD_1  \\\n",
       "date                                                             \n",
       "2011-01-29                      22                         584   \n",
       "2011-01-30                      14                         541   \n",
       "2011-01-31                      20                         420   \n",
       "2011-02-01                      11                         327   \n",
       "2011-02-02                       4                         151   \n",
       "\n",
       "            WI_3_HOUSEHOLD_HOUSEHOLD_2  \n",
       "date                                    \n",
       "2011-01-29                         148  \n",
       "2011-01-30                         195  \n",
       "2011-01-31                         106  \n",
       "2011-02-01                          94  \n",
       "2011-02-02                          53  \n",
       "\n",
       "[5 rows x 114 columns]"
      ]
     },
     "execution_count": 10,
     "metadata": {},
     "output_type": "execute_result"
    }
   ],
   "source": [
    "df_all = pd.concat([df_total, df_states, df_stores, df_cats, df_depts], axis=1)\n",
    "df_all.head(5)"
   ]
  },
  {
   "cell_type": "code",
   "execution_count": 11,
   "metadata": {},
   "outputs": [],
   "source": [
    "states = df_hier.state_id.unique()\n",
    "stores = df_hier.store_id.unique()\n",
    "cats = df_hier.store_cat_id.unique()\n",
    "depts = df_hier.store_cat_dept_id.unique()\n",
    "\n",
    "# Here we build the tree as a dictionary. Each node (key in dict) has a list of \n",
    "# children value in dict, which in turn may also be a key in the dict, and have \n",
    "# children as well \n",
    "total = {'total': list(states)}\n",
    "state_h = {k: [v for v in stores if v.startswith(k)] for k in states}\n",
    "store_h = {k: [v for v in cats if v.startswith(k)] for k in stores}\n",
    "dept_h = {k: [v for v in depts if v.startswith(k)] for k in cats}"
   ]
  },
  {
   "cell_type": "code",
   "execution_count": 12,
   "metadata": {},
   "outputs": [],
   "source": [
    "hierarchy = {**total, **state_h, **store_h, **dept_h}"
   ]
  },
  {
   "cell_type": "markdown",
   "metadata": {},
   "source": [
    "## Endogenous variable only"
   ]
  },
  {
   "cell_type": "markdown",
   "metadata": {},
   "source": [
    "### SARIMA\n",
    "\n",
    "scikit-hts uses auto_arima function pro library pmdarima. This will be more appropriate in our case since doing all steps required to fit a SARIMA model would be tedious and take a really long time, so our best option will let to default arguments to choose best parameters and analyze results."
   ]
  },
  {
   "cell_type": "code",
   "execution_count": 18,
   "metadata": {},
   "outputs": [
    {
     "name": "stderr",
     "output_type": "stream",
     "text": [
      "\n",
      "Fitting models:   0%|          | 0/114 [00:00<?, ?it/s]\u001b[A\n",
      "Fitting models:  24%|██▎       | 27/114 [00:00<00:00, 264.00it/s]\u001b[A\n",
      "Fitting models:  46%|████▋     | 53/114 [00:00<00:00, 261.80it/s]\u001b[A\n",
      "Fitting models:  68%|██████▊   | 78/114 [00:00<00:00, 257.42it/s]\u001b[A\n",
      "Fitting models: 100%|██████████| 114/114 [00:00<00:00, 245.86it/s]\u001b[A\n"
     ]
    }
   ],
   "source": [
    "from hts import HTSRegressor\n",
    "from pmdarima.model_selection import train_test_split\n",
    "\n",
    "auto_arima_args = dict(m=7)\n",
    "\n",
    "df_all = df_all.resample('D').sum()\n",
    "\n",
    "train, test = train_test_split(df_all, test_size=28)\n",
    "clf_hw_hier = HTSRegressor(model='holt_winters', revision_method='OLS', n_jobs=0)\n",
    "\n",
    "model_hw = clf_hw_hier.fit(train, hierarchy)"
   ]
  },
  {
   "cell_type": "code",
   "execution_count": 19,
   "metadata": {},
   "outputs": [
    {
     "name": "stderr",
     "output_type": "stream",
     "text": [
      "\n",
      "Fitting models:   0%|          | 0/114 [00:00<?, ?it/s]\u001b[A\n",
      "Fitting models:  11%|█         | 12/114 [00:00<00:00, 119.19it/s]\u001b[A\n",
      "Fitting models:  22%|██▏       | 25/114 [00:00<00:00, 120.28it/s]\u001b[A\n",
      "Fitting models:  33%|███▎      | 38/114 [00:00<00:00, 121.95it/s]\u001b[A\n",
      "Fitting models:  45%|████▍     | 51/114 [00:00<00:00, 123.60it/s]\u001b[A\n",
      "Fitting models:  57%|█████▋    | 65/114 [00:00<00:00, 126.41it/s]\u001b[A\n",
      "Fitting models:  71%|███████   | 81/114 [00:00<00:00, 132.91it/s]\u001b[A\n",
      "Fitting models:  84%|████████▍ | 96/114 [00:00<00:00, 136.38it/s]\u001b[A\n",
      "Fitting models: 100%|██████████| 114/114 [00:00<00:00, 129.14it/s]\u001b[A\n"
     ]
    }
   ],
   "source": [
    "predicted_hw = clf_hw_hier.predict(steps_ahead=28)"
   ]
  },
  {
   "cell_type": "code",
   "execution_count": 25,
   "metadata": {},
   "outputs": [],
   "source": [
    "y_train = train\n",
    "y_true = test\n",
    "y_pred = predicted_hw[-test.shape[0]:]"
   ]
  },
  {
   "cell_type": "code",
   "execution_count": 30,
   "metadata": {},
   "outputs": [
    {
     "ename": "AttributeError",
     "evalue": "module 'hts' has no attribute 'metrics'",
     "output_type": "error",
     "traceback": [
      "\u001b[0;31m---------------------------------------------------------------------------\u001b[0m",
      "\u001b[0;31mAttributeError\u001b[0m                            Traceback (most recent call last)",
      "\u001b[0;32m<ipython-input-30-5f04bff2585b>\u001b[0m in \u001b[0;36m<module>\u001b[0;34m\u001b[0m\n\u001b[0;32m----> 1\u001b[0;31m \u001b[0mhts\u001b[0m\u001b[0;34m.\u001b[0m\u001b[0mmetrics\u001b[0m\u001b[0;34m\u001b[0m\u001b[0;34m\u001b[0m\u001b[0m\n\u001b[0m",
      "\u001b[0;31mAttributeError\u001b[0m: module 'hts' has no attribute 'metrics'"
     ]
    }
   ],
   "source": [
    "hts.metrics"
   ]
  },
  {
   "cell_type": "code",
   "execution_count": 94,
   "metadata": {},
   "outputs": [
    {
     "data": {
      "text/plain": [
       "(array([24, 26, 32, 61, 68, 73, 74, 80, 82, 88]),)"
      ]
     },
     "execution_count": 94,
     "metadata": {},
     "output_type": "execute_result"
    }
   ],
   "source": [
    "np.where(mean_absolute_scaled_error(y_true, y_pred, y_train, naive_period=1) < 1)"
   ]
  },
  {
   "cell_type": "code",
   "execution_count": 97,
   "metadata": {},
   "outputs": [
    {
     "data": {
      "text/plain": [
       "total             1.615398\n",
       "CA                1.615166\n",
       "TX                1.285696\n",
       "WI                1.523779\n",
       "CA_1              1.429641\n",
       "CA_2              1.726998\n",
       "CA_3              1.550915\n",
       "CA_4              1.263155\n",
       "TX_1              1.219877\n",
       "TX_2              1.315916\n",
       "TX_3              1.211615\n",
       "WI_1              1.782247\n",
       "WI_2              1.780078\n",
       "WI_3              1.486839\n",
       "CA_1_FOODS        1.442081\n",
       "CA_1_HOBBIES      1.006134\n",
       "CA_1_HOUSEHOLD    1.440103\n",
       "CA_2_FOODS        1.772898\n",
       "CA_2_HOBBIES      1.156626\n",
       "CA_2_HOUSEHOLD    1.490187\n",
       "CA_3_FOODS        1.910895\n",
       "CA_3_HOBBIES      1.136822\n",
       "CA_3_HOUSEHOLD    1.413071\n",
       "CA_4_FOODS        1.193782\n",
       "CA_4_HOBBIES      0.865187\n",
       "CA_4_HOUSEHOLD    1.621874\n",
       "dtype: float64"
      ]
     },
     "execution_count": 97,
     "metadata": {},
     "output_type": "execute_result"
    }
   ],
   "source": [
    "mean_absolute_scaled_error(y_true, y_pred, y_train, naive_period=1).head(26)"
   ]
  },
  {
   "cell_type": "code",
   "execution_count": 76,
   "metadata": {},
   "outputs": [
    {
     "ename": "AttributeError",
     "evalue": "'Series' object has no attribute 'columns'",
     "output_type": "error",
     "traceback": [
      "\u001b[0;31m---------------------------------------------------------------------------\u001b[0m",
      "\u001b[0;31mAttributeError\u001b[0m                            Traceback (most recent call last)",
      "\u001b[0;32m<ipython-input-76-88e92d43b963>\u001b[0m in \u001b[0;36m<module>\u001b[0;34m\u001b[0m\n\u001b[0;32m----> 1\u001b[0;31m \u001b[0mmean_absolute_scaled_error\u001b[0m\u001b[0;34m(\u001b[0m\u001b[0my_true\u001b[0m\u001b[0;34m[\u001b[0m\u001b[0;34m'CA'\u001b[0m\u001b[0;34m]\u001b[0m\u001b[0;34m,\u001b[0m \u001b[0my_pred\u001b[0m\u001b[0;34m[\u001b[0m\u001b[0;34m'CA'\u001b[0m\u001b[0;34m]\u001b[0m\u001b[0;34m,\u001b[0m \u001b[0my_train\u001b[0m\u001b[0;34m[\u001b[0m\u001b[0;34m'CA'\u001b[0m\u001b[0;34m]\u001b[0m\u001b[0;34m,\u001b[0m \u001b[0mnaive_period\u001b[0m\u001b[0;34m=\u001b[0m\u001b[0;36m7\u001b[0m\u001b[0;34m)\u001b[0m\u001b[0;34m\u001b[0m\u001b[0;34m\u001b[0m\u001b[0m\n\u001b[0m",
      "\u001b[0;32m<ipython-input-61-c91820837790>\u001b[0m in \u001b[0;36mmean_absolute_scaled_error\u001b[0;34m(y_true, y_pred, y_train, naive_period, sample_weight, multioutput)\u001b[0m\n\u001b[1;32m     53\u001b[0m     \u001b[0moutput_errors\u001b[0m \u001b[0;34m=\u001b[0m \u001b[0mnumpy\u001b[0m\u001b[0;34m.\u001b[0m\u001b[0maverage\u001b[0m\u001b[0;34m(\u001b[0m\u001b[0mq_t\u001b[0m\u001b[0;34m,\u001b[0m \u001b[0maxis\u001b[0m\u001b[0;34m=\u001b[0m\u001b[0;36m0\u001b[0m\u001b[0;34m)\u001b[0m\u001b[0;34m\u001b[0m\u001b[0;34m\u001b[0m\u001b[0m\n\u001b[1;32m     54\u001b[0m \u001b[0;34m\u001b[0m\u001b[0m\n\u001b[0;32m---> 55\u001b[0;31m     \u001b[0;32mreturn\u001b[0m \u001b[0mpandas\u001b[0m\u001b[0;34m.\u001b[0m\u001b[0mSeries\u001b[0m\u001b[0;34m(\u001b[0m\u001b[0moutput_errors\u001b[0m\u001b[0;34m,\u001b[0m \u001b[0mindex\u001b[0m\u001b[0;34m=\u001b[0m\u001b[0mq_t\u001b[0m\u001b[0;34m.\u001b[0m\u001b[0mcolumns\u001b[0m\u001b[0;34m)\u001b[0m\u001b[0;34m\u001b[0m\u001b[0;34m\u001b[0m\u001b[0m\n\u001b[0m",
      "\u001b[0;32m~/anaconda3/envs/m5/lib/python3.7/site-packages/pandas/core/generic.py\u001b[0m in \u001b[0;36m__getattr__\u001b[0;34m(self, name)\u001b[0m\n\u001b[1;32m   5268\u001b[0m             \u001b[0;32mor\u001b[0m \u001b[0mname\u001b[0m \u001b[0;32min\u001b[0m \u001b[0mself\u001b[0m\u001b[0;34m.\u001b[0m\u001b[0m_accessors\u001b[0m\u001b[0;34m\u001b[0m\u001b[0;34m\u001b[0m\u001b[0m\n\u001b[1;32m   5269\u001b[0m         ):\n\u001b[0;32m-> 5270\u001b[0;31m             \u001b[0;32mreturn\u001b[0m \u001b[0mobject\u001b[0m\u001b[0;34m.\u001b[0m\u001b[0m__getattribute__\u001b[0m\u001b[0;34m(\u001b[0m\u001b[0mself\u001b[0m\u001b[0;34m,\u001b[0m \u001b[0mname\u001b[0m\u001b[0;34m)\u001b[0m\u001b[0;34m\u001b[0m\u001b[0;34m\u001b[0m\u001b[0m\n\u001b[0m\u001b[1;32m   5271\u001b[0m         \u001b[0;32melse\u001b[0m\u001b[0;34m:\u001b[0m\u001b[0;34m\u001b[0m\u001b[0;34m\u001b[0m\u001b[0m\n\u001b[1;32m   5272\u001b[0m             \u001b[0;32mif\u001b[0m \u001b[0mself\u001b[0m\u001b[0;34m.\u001b[0m\u001b[0m_info_axis\u001b[0m\u001b[0;34m.\u001b[0m\u001b[0m_can_hold_identifiers_and_holds_name\u001b[0m\u001b[0;34m(\u001b[0m\u001b[0mname\u001b[0m\u001b[0;34m)\u001b[0m\u001b[0;34m:\u001b[0m\u001b[0;34m\u001b[0m\u001b[0;34m\u001b[0m\u001b[0m\n",
      "\u001b[0;31mAttributeError\u001b[0m: 'Series' object has no attribute 'columns'"
     ]
    }
   ],
   "source": [
    "mean_absolute_scaled_error(y_true['CA'], y_pred['CA'], y_train['CA'], naive_period=7)"
   ]
  },
  {
   "cell_type": "code",
   "execution_count": 101,
   "metadata": {},
   "outputs": [
    {
     "data": {
      "text/plain": [
       "<matplotlib.axes._subplots.AxesSubplot at 0x7f538d90c690>"
      ]
     },
     "execution_count": 101,
     "metadata": {},
     "output_type": "execute_result"
    },
    {
     "data": {
      "image/png": "[encoded data removed]",
      "text/plain": [
       "<Figure size 432x288 with 1 Axes>"
      ]
     },
     "metadata": {
      "needs_background": "light"
     },
     "output_type": "display_data"
    }
   ],
   "source": [
    "y_pred['CA_4_HOBBIES'].plot()\n",
    "y_true['CA_4_HOBBIES'].plot()"
   ]
  },
  {
   "cell_type": "code",
   "execution_count": 102,
   "metadata": {},
   "outputs": [
    {
     "data": {
      "text/plain": [
       "<matplotlib.axes._subplots.AxesSubplot at 0x7f537b61ded0>"
      ]
     },
     "execution_count": 102,
     "metadata": {},
     "output_type": "execute_result"
    },
    {
     "data": {
      "image/png": "[encoded data removed]",
      "text/plain": [
       "<Figure size 432x288 with 1 Axes>"
      ]
     },
     "metadata": {
      "needs_background": "light"
     },
     "output_type": "display_data"
    }
   ],
   "source": [
    "y_pred['CA_4_HOBBIES'].plot()"
   ]
  },
  {
   "cell_type": "code",
   "execution_count": 168,
   "metadata": {},
   "outputs": [
    {
     "data": {
      "text/plain": [
       "<matplotlib.axes._subplots.AxesSubplot at 0x7f5c3e5ce210>"
      ]
     },
     "execution_count": 168,
     "metadata": {},
     "output_type": "execute_result"
    },
    {
     "data": {
      "image/png": "[encoded data removed]",
      "text/plain": [
       "<Figure size 432x288 with 1 Axes>"
      ]
     },
     "metadata": {
      "needs_background": "light"
     },
     "output_type": "display_data"
    }
   ],
   "source": [
    "y_pred['CA'].plot()\n",
    "y_test['CA'].plot()"
   ]
  },
  {
   "cell_type": "markdown",
   "metadata": {},
   "source": [
    "### ETS"
   ]
  },
  {
   "cell_type": "code",
   "execution_count": null,
   "metadata": {},
   "outputs": [],
   "source": []
  },
  {
   "cell_type": "markdown",
   "metadata": {},
   "source": [
    "### Prophet"
   ]
  },
  {
   "cell_type": "code",
   "execution_count": null,
   "metadata": {},
   "outputs": [],
   "source": []
  },
  {
   "cell_type": "markdown",
   "metadata": {},
   "source": [
    "## Exogenous variables"
   ]
  }
 ],
 "metadata": {
  "kernelspec": {
   "display_name": "Python 3",
   "language": "python",
   "name": "python3"
  },
  "language_info": {
   "codemirror_mode": {
    "name": "ipython",
    "version": 3
   },
   "file_extension": ".py",
   "mimetype": "text/x-python",
   "name": "python",
   "nbconvert_exporter": "python",
   "pygments_lexer": "ipython3",
   "version": "3.7.4"
  }
 },
 "nbformat": 4,
 "nbformat_minor": 4
}
